{
 "cells": [
  {
   "cell_type": "markdown",
   "metadata": {},
   "source": [
    "# A Large Dimenional Analysis of LS-SVM"
   ]
  },
  {
   "cell_type": "markdown",
   "metadata": {},
   "source": [
    "by [Zhenyu Liao](http://zhenyu-liao.github.io/), CentraleSupelec, Paris-Saclay"
   ]
  },
  {
   "cell_type": "code",
   "execution_count": 1,
   "metadata": {},
   "outputs": [],
   "source": [
    "import scipy.special,scipy.linalg\n",
    "import numpy as np\n",
    "import time\n",
    "from matplotlib import pyplot as plt\n",
    "from sklearn.datasets import fetch_mldata"
   ]
  },
  {
   "cell_type": "markdown",
   "metadata": {
    "collapsed": true
   },
   "source": [
    "### Get Data (MNIST dataset or Mixture Gaussian)"
   ]
  },
  {
   "cell_type": "code",
   "execution_count": 2,
   "metadata": {},
   "outputs": [],
   "source": [
    "def get_data(testcase,p,n,n_test,prop,selected_target,means,covs):\n",
    "    rng = np.random\n",
    "\n",
    "    # different cases for data\n",
    "    if testcase is 'MNIST':\n",
    "        mnist=fetch_mldata('MNIST original')\n",
    "        X,y = mnist.data,mnist.target\n",
    "        X_train_full, X_test_full = X[:60000], X[60000:]\n",
    "        y_train_full, y_test_full = y[:60000], y[60000:]\n",
    "\n",
    "        K=len(selected_target)\n",
    "        X_train = np.array([]).reshape(p,0)\n",
    "        X_test = np.array([]).reshape(p,0)        \n",
    "        \n",
    "        y_train = []\n",
    "        y_test = []\n",
    "        ind=0\n",
    "        for i in selected_target:\n",
    "            locate_target_train = np.where(y_train_full==i)[0][range(np.int(prop[ind]*n))]\n",
    "            locate_target_test  = np.where(y_test_full==i)[0][range(np.int(prop[ind]*n_test))]\n",
    "            X_train = np.concatenate( (X_train,X_train_full[locate_target_train].T),axis=1)\n",
    "            y_train = np.concatenate( (y_train,2*(ind-K/2+.5)*np.ones(np.int(n*prop[ind]))) )\n",
    "            X_test  = np.concatenate( (X_test,X_test_full[locate_target_test].T),axis=1)\n",
    "            y_test = np.concatenate( (y_test,2*(ind-K/2+.5)*np.ones(np.int(n_test*prop[ind]))) )\n",
    "            ind+=1                       \n",
    "        \n",
    "        X_train = X_train - np.mean(X_train,axis=1).reshape(p,1)\n",
    "        X_train = X_train*np.sqrt(784)/np.sqrt(np.sum(X_train**2,(0,1))/n)\n",
    "        \n",
    "        X_test = X_test - np.mean(X_test,axis=1).reshape(p,1)\n",
    "        X_test = X_test*np.sqrt(784)/np.sqrt(np.sum(X_test**2,(0,1))/n_test)\n",
    "        \n",
    "    else:\n",
    "        X_train = np.array([]).reshape(p,0)\n",
    "        X_test = np.array([]).reshape(p,0)       \n",
    "        y_train = []\n",
    "        y_test = []\n",
    "        K = len(prop)\n",
    "        for i in range(K):            \n",
    "            X_train = np.concatenate((X_train,rng.multivariate_normal(means[i],covs[i],size=np.int(n*prop[i])).T),axis=1)\n",
    "            X_test  = np.concatenate((X_test,rng.multivariate_normal(means[i],covs[i],size=np.int(n_test*prop[i])).T),axis=1)\n",
    "            y_train = np.concatenate( (y_train,2*(i-K/2+.5)*np.ones(np.int(n*prop[i]))) )\n",
    "            y_test = np.concatenate( (y_test,2*(i-K/2+.5)*np.ones(np.int(n_test*prop[i]))) )            \n",
    "            \n",
    "    #X_train = X_train/np.sqrt(p)\n",
    "    #X_test  = X_test/np.sqrt(p)\n",
    "            \n",
    "    return X_train, X_test, y_train, y_test"
   ]
  },
  {
   "cell_type": "markdown",
   "metadata": {},
   "source": [
    "### Generate Kernel function $f$"
   ]
  },
  {
   "cell_type": "code",
   "execution_count": 3,
   "metadata": {},
   "outputs": [],
   "source": [
    "def get_kernel(kernel,z,derivs=None,tau=None,sigma2=None):\n",
    "    if kernel in ['poly','poly_zero']:\n",
    "        if derivs is None:\n",
    "            print('Error: Try to use poly kernel: please give derivatives!\\n')\n",
    "        else:\n",
    "            coeffs = np.zeros(3)\n",
    "            for i in range(3):\n",
    "                coeffs[i] = derivs[2-i]/np.math.factorial(2-i)\n",
    "            f = np.polyval(coeffs,(z-tau))\n",
    "    elif kernel is 'gauss':\n",
    "        if sigma2 is None:\n",
    "            print('Error: Try to use Gaussian kernel: please give sigma2!\\n')\n",
    "        else:\n",
    "            f = np.exp(-z/(2*sigma2))\n",
    "        \n",
    "    return f"
   ]
  },
  {
   "cell_type": "markdown",
   "metadata": {},
   "source": [
    "### Get statistics of MNIST data"
   ]
  },
  {
   "cell_type": "code",
   "execution_count": 4,
   "metadata": {},
   "outputs": [],
   "source": [
    "def get_stat(X,prop):\n",
    "    p = X_train.shape[0]\n",
    "    n = X_train.shape[1]\n",
    "    k = len(prop)\n",
    "    \n",
    "    index = []\n",
    "    means = []\n",
    "    covs = []\n",
    "    tmp = 0\n",
    "    for i in range(k):\n",
    "        index.append(np.arange(tmp,tmp+int(n*prop[i]),1))\n",
    "        means.append(np.mean(X_train[:,index[i]],axis=1).reshape(p,1))\n",
    "        covs.append((X_train[:,index[i]]@X_train[:,index[i]].T/(n*prop[i]) - means[i]@(means[i].T)).reshape(p,p))\n",
    "        tmp = tmp+int(n*prop[i])-1\n",
    "    \n",
    "    return means,covs"
   ]
  },
  {
   "cell_type": "markdown",
   "metadata": {},
   "source": [
    "## Main code"
   ]
  },
  {
   "cell_type": "code",
   "execution_count": 5,
   "metadata": {},
   "outputs": [],
   "source": [
    "testcase = 'means'# testcase for simulation, among 'iid','means','var','orth','mixed','MNIST'\n",
    "kernel = 'gauss'  # kernel used for LS-SVM, among 'gauss', 'poly', 'poly_zero'\n",
    "\n",
    "n = 256 # number of training samples \n",
    "n_test = 1024 # number of test simples\n",
    "p = 128 # dimension of data\n",
    "prop = [.25,.75] # two-class problem\n",
    "k = len(prop)\n",
    "\n",
    "gamma = 1\n",
    "\n",
    "\n",
    "loops = 50        # Number of generations of W to be averaged over\n",
    "\n",
    "g=np.zeros((loops,n_test))\n",
    "\n",
    "rng = np.random\n",
    "for loop in range(loops):    \n",
    "    \n",
    "    ## Generate X_train,X_test,y_train,y_test\n",
    "    if testcase is 'MNIST':\n",
    "        p=784\n",
    "        selected_target = [3,8]\n",
    "        means = []\n",
    "        covs = []\n",
    "        X_train,X_test,y_train,y_test = get_data(testcase,p,n,n_test,prop,selected_target,means,covs)\n",
    "    else:\n",
    "        selected_target = [0,1]\n",
    "        means=[]\n",
    "        covs=[]\n",
    "        if testcase is 'iid':\n",
    "            for i in range(k):\n",
    "                means.append(np.zeros(p))\n",
    "                covs.append(np.eye(p))     \n",
    "        elif testcase is 'means':\n",
    "            for i in range(k):\n",
    "                means.append( np.concatenate( (np.zeros(i),4*np.ones(1),np.zeros(p-i-1)) ) )\n",
    "                covs.append(np.eye(p))\n",
    "        elif testcase is 'var':\n",
    "            for i in range(k):\n",
    "                means.append(np.zeros(p))\n",
    "                covs.append(np.eye(p)*(1+8*i/np.sqrt(p)))\n",
    "        elif testcase is 'orth':\n",
    "            for i in range(k):\n",
    "                means.append(np.zeros(p))\n",
    "                covs.append( np.diag(np.concatenate( (np.ones(np.int(np.sum(prop[0:i]*p))),4*np.ones(np.int(prop[i]*p)),np.ones(np.int(np.sum(prop[i+1:]*p))) ) ) ))\n",
    "        elif testcase is 'mixed':\n",
    "            for i in range(k):\n",
    "                means.append( np.concatenate( (np.zeros(i),2*np.ones(1),np.zeros(p-i-1)) ) )\n",
    "                covs.append((1+4*i/np.sqrt(p))*scipy.linalg.toeplitz( [(.4*i)**x for x in range(p)] ))            \n",
    "        X_train,X_test,y_train,y_test = get_data(testcase,p,n,n_test,prop,selected_target,means,covs)\n",
    "\n",
    "    # computation of tau\n",
    "    XX_train = X_train.T@X_train/p\n",
    "    XX_test = X_test.T@X_test/p\n",
    "    tau = 2*np.trace(XX_train)/n\n",
    "\n",
    "    \n",
    "    # Build kernel matrix K\n",
    "    if kernel is 'gauss':\n",
    "        sigma2 = 1\n",
    "        derivs = None\n",
    "    elif kernel is 'poly':\n",
    "        sigma2 = None\n",
    "        derivs = [3, -.5, 2]\n",
    "    elif kernel is 'poly_zero':\n",
    "        sigma2 = None\n",
    "        derivs = [3, 0, 2]\n",
    "    \n",
    "    K = get_kernel(kernel, XX_train.diagonal(offset=0).reshape(n,1)@np.ones(n).reshape(1,n)+np.ones(n).reshape(n,1)@XX_train.diagonal(offset=0).T.reshape(1,n)-2*XX_train, derivs, tau, sigma2)\n",
    "\n",
    "    S = K + n/gamma*np.eye(n)\n",
    "    invS_y = scipy.linalg.solve(S,y_train)\n",
    "    invS_1 = scipy.linalg.solve(S,np.ones(n))\n",
    "\n",
    "    b = invS_y.sum()/invS_1.sum()\n",
    "    alpha = invS_y - invS_1*b\n",
    "    g[loop,:] = alpha.T@get_kernel(kernel, XX_train.diagonal(offset=0).reshape(n,1)@(np.ones(n_test).reshape(1,n_test))+np.ones(n).reshape(n,1)@XX_test.diagonal(offset=0).reshape(1,n_test)-2*X_train.T@X_test/p, derivs, tau, sigma2)+b\n",
    "    \n",
    "    # if we remove b\n",
    "    # alpha = invS_y\n",
    "    # g[idx] = alpha.T@get_kernel(kernel, XX_train.diagonal(offset=0).reshape(n,1)@(np.ones(n_test).reshape(1,n_test))+np.ones(n).reshape(n,1)@XX_test.diagonal(offset=0).reshape(1,n_test)-2*X_train.T@X_test/p, derivs, tau, sigma2)\n",
    "    \n",
    "# Computation for theoritical means and var\n",
    "if kernel is 'gauss':\n",
    "    f_tau = get_kernel(kernel,tau,derivs,tau,sigma2)\n",
    "    derivs = [f_tau, -f_tau/(2*sigma2), f_tau/(4*sigma2**2)]\n",
    "    \n",
    "if testcase is 'MNIST':\n",
    "    means,covs = get_stat(X_train,prop)\n",
    "\n",
    "\n",
    "t1 = np.trace(covs[0]-prop[0]*covs[0]-prop[1]*covs[1])/np.sqrt(p)\n",
    "t2 = np.trace(covs[1]-prop[0]*covs[0]-prop[1]*covs[1])/np.sqrt(p)\n",
    "    \n",
    "D = -2*derivs[1]*(np.linalg.norm(means[1]-means[0]))**2/p + derivs[2]*(t1-t2)**2/p + 2*derivs[2]*(np.trace((covs[0]-covs[1])**2))/(p**2)\n",
    "\n",
    "mean_th = (prop[1]-prop[0])*np.array([1.0,1.0])+2*prop[0]*prop[1]*gamma*D*np.array([-prop[1],prop[0]])\n",
    "V11 = (t2-t1)**2*derivs[2]**2*np.trace(covs[0]**2)/(p**3)\n",
    "V12 = (t2-t1)**2*derivs[2]**2*np.trace(covs[1]**2)/(p**3)\n",
    "V21 = 2*derivs[1]**2*(means[1]-means[0]).T@covs[0]@(means[1]-means[0])/(p**2)\n",
    "V22 = 2*derivs[1]**2*(means[1]-means[0]).T@covs[1]@(means[1]-means[0])/(p**2)\n",
    "V31 = 2*derivs[1]**2*(np.trace(covs[0]**2)/prop[0]+np.trace(covs[0]*covs[1])/prop[1])/(n*p**2)\n",
    "V32 = 2*derivs[1]**2*(np.trace(covs[0]*covs[1])/prop[0]+np.trace(covs[1]**2)/prop[1])/(n*p**2)\n",
    "var_th = 8*gamma**2*(prop[0]*prop[1])**2*np.array([V11+V21+V31, V12+V22+V32])\n"
   ]
  },
  {
   "cell_type": "markdown",
   "metadata": {},
   "source": [
    "### Plots"
   ]
  },
  {
   "cell_type": "code",
   "execution_count": 6,
   "metadata": {},
   "outputs": [
    {
     "data": {
      "image/png": "[encoded data removed]",
      "text/plain": [
       "<Figure size 432x288 with 1 Axes>"
      ]
     },
     "metadata": {
      "needs_background": "light"
     },
     "output_type": "display_data"
    }
   ],
   "source": [
    "#g_mean = np.mean(g,0)\n",
    "    \n",
    "g1 = g[:,range(int(n_test*prop[0]))]\n",
    "g2 = g[:,int(n_test*prop[0]):]\n",
    "\n",
    "g1 = g1.flatten()\n",
    "g2 = g2.flatten()\n",
    "\n",
    "xs1 = np.linspace(min(g1),max(g1),30)\n",
    "xs2 = np.linspace(min(g2),max(g2),30)\n",
    "step1 = xs1[1]-xs1[0]\n",
    "step2 = xs2[1]-xs2[0]\n",
    "\n",
    "g_th1 = scipy.stats.norm.pdf(xs1, loc=mean_th[0], scale=np.sqrt(var_th[0])).reshape(30,1)\n",
    "g_th2 = scipy.stats.norm.pdf(xs2, loc=mean_th[1], scale=np.sqrt(var_th[1])).reshape(30,1)\n",
    "\n",
    "n1, bins1, patches1 ,= plt.hist(g1, 30, facecolor='blue', alpha=0.75)\n",
    "n2, bins2, patches2 ,= plt.hist(g2, 30, facecolor='red', alpha=0.75)\n",
    "\n",
    "pl1 ,=plt.plot(xs1,g_th1*n_test*prop[0]*step1*loops,'green')\n",
    "pl2 ,=plt.plot(xs2,g_th2*n_test*prop[1]*step2*loops,'purple')\n",
    "plt.show()"
   ]
  }
 ],
 "metadata": {
  "kernelspec": {
   "display_name": "Python 3",
   "language": "python",
   "name": "python3"
  },
  "language_info": {
   "codemirror_mode": {
    "name": "ipython",
    "version": 3
   },
   "file_extension": ".py",
   "mimetype": "text/x-python",
   "name": "python",
   "nbconvert_exporter": "python",
   "pygments_lexer": "ipython3",
   "version": "3.7.3"
  }
 },
 "nbformat": 4,
 "nbformat_minor": 2
}
